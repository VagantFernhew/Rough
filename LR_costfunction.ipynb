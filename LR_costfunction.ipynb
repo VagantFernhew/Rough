{
 "cells": [
  {
   "cell_type": "code",
   "execution_count": 24,
   "metadata": {
    "collapsed": false
   },
   "outputs": [
    {
     "data": {
      "text/plain": [
       "3111.0551861131999"
      ]
     },
     "execution_count": 24,
     "metadata": {},
     "output_type": "execute_result"
    }
   ],
   "source": [
    "#################################################\n",
    "# import libraries/modules\n",
    "import numpy as np\n",
    "import pandas as pd\n",
    "import matplotlib.pyplot as plt\n",
    "from itertools import repeat\n",
    "###################################################\n",
    "#  read your data\n",
    "file = 'a.csv' # complete directory of csv file\n",
    "columns = [0,1]  # read ist two columns of csv file\n",
    "myData = np.loadtxt(file, delimiter = ',', dtype = float, skiprows = 1, usecols = columns)\n",
    "#print(myData)\n",
    "x = myData[:,0]   # seprate x variable\n",
    "y = myData[:,1]   # seprate y variable\n",
    "# pass the values to costFunction\n",
    "####################################################\n",
    "# add bias units to x\n",
    "n = len(x)\n",
    "bias = list(repeat(1, n))\n",
    "theta=[[0],[0]]\n",
    "x = np.column_stack((x, bias))\n",
    "#####################################################\n",
    "#    implement cost function for linear regeration\n",
    "\n",
    "def computeCost(X, y,theta):\n",
    "    m = y.size\n",
    "    J = 0\n",
    "    \n",
    "    h = X.dot(theta)\n",
    "    \n",
    "    J = 1/(2*m)*np.sum(np.square(h-y))\n",
    "    \n",
    "    return(J)\n",
    "######################################################\n",
    "# call your costfunction\n",
    "computeCost(x,y,theta)\n",
    "\n",
    "\n",
    "\n"
   ]
  },
  {
   "cell_type": "code",
   "execution_count": 15,
   "metadata": {
    "collapsed": false
   },
   "outputs": [],
   "source": [
    "\n"
   ]
  }
 ],
 "metadata": {
  "kernelspec": {
   "display_name": "Python 3",
   "language": "python",
   "name": "python3"
  },
  "language_info": {
   "codemirror_mode": {
    "name": "ipython",
    "version": 3
   },
   "file_extension": ".py",
   "mimetype": "text/x-python",
   "name": "python",
   "nbconvert_exporter": "python",
   "pygments_lexer": "ipython3",
   "version": "3.6.0"
  }
 },
 "nbformat": 4,
 "nbformat_minor": 2
}
